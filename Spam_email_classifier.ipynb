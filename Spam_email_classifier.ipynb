{
  "nbformat": 4,
  "nbformat_minor": 0,
  "metadata": {
    "colab": {
      "provenance": []
    },
    "kernelspec": {
      "name": "python3",
      "display_name": "Python 3"
    },
    "language_info": {
      "name": "python"
    }
  },
  "cells": [
    {
      "cell_type": "code",
      "execution_count": 1,
      "metadata": {
        "id": "MAsFaPShfDDe"
      },
      "outputs": [],
      "source": [
        "import os\n",
        "import io\n",
        "import numpy\n",
        "from pandas import DataFrame\n",
        "from sklearn.feature_extraction.text import CountVectorizer\n",
        "from sklearn.naive_bayes import MultinomialNB"
      ]
    },
    {
      "cell_type": "code",
      "source": [
        "#Function to read files (emails) from the local directory\n",
        "def readFiles(path):\n",
        "    for root, dirnames, filenames in os.walk(path):\n",
        "        for filename in filenames:\n",
        "            path = os.path.join(root, filename)\n",
        "\n",
        "            inBody = False\n",
        "            lines = []\n",
        "            f = io.open(path, 'r', encoding='latin1')\n",
        "            for line in f:\n",
        "                if inBody:\n",
        "                    lines.append(line)\n",
        "                elif line == '\\n':\n",
        "                    inBody = True\n",
        "            f.close()\n",
        "            message = '\\n'.join(lines)\n",
        "            yield path, message\n"
      ],
      "metadata": {
        "id": "s5HD7dLAtVeq"
      },
      "execution_count": 2,
      "outputs": []
    },
    {
      "cell_type": "code",
      "source": [
        "def dataFrameFromDirectory(path, classification):\n",
        "    rows = []\n",
        "    index = []\n",
        "    for filename, message in readFiles(path):\n",
        "        rows.append({'message': message, 'class': classification})\n",
        "        index.append(filename)\n",
        "\n",
        "    return DataFrame(rows, index=index)"
      ],
      "metadata": {
        "id": "HVniDuRqtY8t"
      },
      "execution_count": 3,
      "outputs": []
    },
    {
      "cell_type": "code",
      "source": [
        "#An empty dataframe with 'message' and 'class' headers\n",
        "data = DataFrame({'message': [], 'class': []})\n",
        "\n",
        "#Including the email details with the spam/ham classification in the dataframe\n",
        "data = data.append(dataFrameFromDirectory('./spam', 'spam'))\n",
        "data = data.append(dataFrameFromDirectory('./ham/', 'non-spam'))\n",
        "\n",
        "#Head and the Tail of 'data'\n",
        "data.head()\n",
        "print(data.tail())\n"
      ],
      "metadata": {
        "colab": {
          "base_uri": "https://localhost:8080/"
        },
        "id": "V-o9NJIDtdp6",
        "outputId": "ca84d774-2f5f-464f-a1c5-b763c862dcc2"
      },
      "execution_count": 12,
      "outputs": [
        {
          "output_type": "stream",
          "name": "stdout",
          "text": [
            "                                                                                        message  \\\n",
            "./ham/00293.d74734bf5cf13ea138e4ee4df7555008  Looks and sounds a hell of a lot like Clare's ...   \n",
            "./ham/00431.7f3adeb8cda736429bbe7ee757a07232  \\n\\nA groys gesheft zol er hobn mit shroyre vu...   \n",
            "./ham/00310.66b26e342f980a716f81bb66e9b28c92  R. A. Hettinga wrote:\\n\\n> And then there was ...   \n",
            "./ham/00476.7133902476448f294ee064117d96c988  On Fri, 6 Sep 2002, Jim Whitehead wrote:\\n\\n--...   \n",
            "./ham/00267.332a04bf60ba54e3a303ee253fb977ee  At 12:05 PM 10/4/28 -0400, Stephen D. Williams...   \n",
            "\n",
            "                                                 class  \n",
            "./ham/00293.d74734bf5cf13ea138e4ee4df7555008  non-spam  \n",
            "./ham/00431.7f3adeb8cda736429bbe7ee757a07232  non-spam  \n",
            "./ham/00310.66b26e342f980a716f81bb66e9b28c92  non-spam  \n",
            "./ham/00476.7133902476448f294ee064117d96c988  non-spam  \n",
            "./ham/00267.332a04bf60ba54e3a303ee253fb977ee  non-spam  \n"
          ]
        }
      ]
    },
    {
      "cell_type": "code",
      "source": [
        "vectoriser = CountVectorizer()\n",
        "count = vectoriser.fit_transform(data['message'].values)\n",
        "print(count)\n",
        "\n"
      ],
      "metadata": {
        "colab": {
          "base_uri": "https://localhost:8080/"
        },
        "id": "lVYEQBlBtvlh",
        "outputId": "1be3752d-ad0c-437a-8d8a-ac23912440ed"
      },
      "execution_count": 13,
      "outputs": [
        {
          "output_type": "stream",
          "name": "stdout",
          "text": [
            "  (0, 23912)\t3\n",
            "  (0, 23057)\t2\n",
            "  (0, 44971)\t2\n",
            "  (0, 30980)\t2\n",
            "  (0, 23920)\t1\n",
            "  (0, 18685)\t3\n",
            "  (0, 2686)\t118\n",
            "  (0, 1736)\t1\n",
            "  (0, 45873)\t1\n",
            "  (0, 1668)\t161\n",
            "  (0, 14133)\t1\n",
            "  (0, 44605)\t3\n",
            "  (0, 12827)\t1\n",
            "  (0, 2876)\t1\n",
            "  (0, 812)\t1\n",
            "  (0, 43398)\t2\n",
            "  (0, 29310)\t2\n",
            "  (0, 5009)\t1\n",
            "  (0, 15494)\t4\n",
            "  (0, 33091)\t3\n",
            "  (0, 5037)\t2\n",
            "  (0, 7231)\t1\n",
            "  (0, 5010)\t2\n",
            "  (0, 5040)\t2\n",
            "  (0, 47886)\t1\n",
            "  :\t:\n",
            "  (1400, 44768)\t1\n",
            "  (1400, 43188)\t1\n",
            "  (1400, 44772)\t2\n",
            "  (1400, 7247)\t1\n",
            "  (1400, 36955)\t1\n",
            "  (1400, 30196)\t1\n",
            "  (1400, 67)\t1\n",
            "  (1400, 1168)\t1\n",
            "  (1400, 11426)\t1\n",
            "  (1400, 49136)\t1\n",
            "  (1400, 48083)\t1\n",
            "  (1400, 138)\t1\n",
            "  (1400, 49410)\t1\n",
            "  (1400, 139)\t2\n",
            "  (1400, 15872)\t1\n",
            "  (1400, 49854)\t1\n",
            "  (1400, 36473)\t1\n",
            "  (1400, 14741)\t1\n",
            "  (1400, 43151)\t1\n",
            "  (1400, 16295)\t2\n",
            "  (1400, 46176)\t3\n",
            "  (1400, 41784)\t1\n",
            "  (1400, 16130)\t1\n",
            "  (1400, 35246)\t1\n",
            "  (1400, 1588)\t1\n"
          ]
        }
      ]
    },
    {
      "cell_type": "code",
      "source": [
        "target = data['class'].values\n",
        "print(target)\n"
      ],
      "metadata": {
        "colab": {
          "base_uri": "https://localhost:8080/"
        },
        "id": "P0uWs2SCtxSv",
        "outputId": "150e8d05-4201-4a1b-fcf1-a928ce27f576"
      },
      "execution_count": 14,
      "outputs": [
        {
          "output_type": "stream",
          "name": "stdout",
          "text": [
            "['spam' 'spam' 'spam' ... 'non-spam' 'non-spam' 'non-spam']\n"
          ]
        }
      ]
    },
    {
      "cell_type": "code",
      "source": [
        "classifier = MultinomialNB()\n",
        "classifier.fit(count, target)\n",
        "print(classifier)\n",
        "\n"
      ],
      "metadata": {
        "colab": {
          "base_uri": "https://localhost:8080/"
        },
        "id": "VwvNkfNOtzU4",
        "outputId": "2f6ba2b8-9a5d-498d-b775-2e5da44f1eb3"
      },
      "execution_count": 15,
      "outputs": [
        {
          "output_type": "stream",
          "name": "stdout",
          "text": [
            "MultinomialNB()\n"
          ]
        }
      ]
    },
    {
      "cell_type": "code",
      "source": [
        "exampleInput = [\"Hey. This is John Cena. You can't see me\", \"Free Viagra boys!!\", \"Please reply to get this offer\"]\n",
        "excount = vectoriser.transform(exampleInput)\n",
        "print(excount)\n",
        "\n"
      ],
      "metadata": {
        "colab": {
          "base_uri": "https://localhost:8080/"
        },
        "id": "Om1flI1mt0qw",
        "outputId": "1f0b4203-7196-4fdc-818e-412970c3d373"
      },
      "execution_count": 16,
      "outputs": [
        {
          "output_type": "stream",
          "name": "stdout",
          "text": [
            "  (0, 12204)\t1\n",
            "  (0, 23257)\t1\n",
            "  (0, 26099)\t1\n",
            "  (0, 27043)\t1\n",
            "  (0, 30784)\t1\n",
            "  (0, 41457)\t1\n",
            "  (0, 44788)\t1\n",
            "  (0, 51389)\t1\n",
            "  (1, 11252)\t1\n",
            "  (1, 20756)\t1\n",
            "  (1, 47753)\t1\n",
            "  (2, 21634)\t1\n",
            "  (2, 33898)\t1\n",
            "  (2, 36335)\t1\n",
            "  (2, 39554)\t1\n",
            "  (2, 44788)\t1\n",
            "  (2, 45122)\t1\n"
          ]
        }
      ]
    },
    {
      "cell_type": "code",
      "source": [
        "prediction = classifier.predict(excount)\n",
        "print(prediction)"
      ],
      "metadata": {
        "colab": {
          "base_uri": "https://localhost:8080/"
        },
        "id": "T-KLieA8t1zU",
        "outputId": "bc12fc86-3198-4db9-8409-1a3ac3e62e4c"
      },
      "execution_count": 17,
      "outputs": [
        {
          "output_type": "stream",
          "name": "stdout",
          "text": [
            "['non-spam' 'spam' 'spam']\n"
          ]
        }
      ]
    },
    {
      "cell_type": "code",
      "source": [
        "import numpy as np\n",
        "from sklearn.naive_bayes import GaussianNB\n",
        "\n",
        "#Assigning features and target variables\n",
        "#Training da  ta\n",
        "features = np.array([[1,2],[3,4], [5,6], [-1,-2], [-3,-4], [-5,-6]])\n",
        "target = np.array([10, 20, 20, 10, 20, 20])\n",
        "\n",
        "#Creating a Gaussian Classifier\n",
        "model = GaussianNB()\n",
        "\n",
        "#Train the model using training data\n",
        "model.fit(features, target)\n",
        "\n",
        "#Predict Output \n",
        "predictedOutput = model.predict([[3,2],[1,3]])\n",
        "print (predictedOutput)\n",
        "\n",
        "#Output: ([20 10])\n"
      ],
      "metadata": {
        "colab": {
          "base_uri": "https://localhost:8080/"
        },
        "id": "qUIKyf8Hvl4D",
        "outputId": "4653e255-a015-4bab-a45d-19d67f88f9f6"
      },
      "execution_count": 18,
      "outputs": [
        {
          "output_type": "stream",
          "name": "stdout",
          "text": [
            "[20 10]\n"
          ]
        }
      ]
    }
  ]
}